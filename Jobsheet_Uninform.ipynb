{
  "nbformat": 4,
  "nbformat_minor": 0,
  "metadata": {
    "colab": {
      "provenance": [],
      "collapsed_sections": [],
      "authorship_tag": "ABX9TyMHYQRhdSWMFCBFYM91Vkzn",
      "include_colab_link": true
    },
    "kernelspec": {
      "name": "python3",
      "display_name": "Python 3"
    },
    "language_info": {
      "name": "python"
    }
  },
  "cells": [
    {
      "cell_type": "markdown",
      "metadata": {
        "id": "view-in-github",
        "colab_type": "text"
      },
      "source": [
        "<a href=\"https://colab.research.google.com/github/FadlilaAfida/KecerdasanBuatan/blob/main/Jobsheet_Uninform.ipynb\" target=\"_parent\"><img src=\"https://colab.research.google.com/assets/colab-badge.svg\" alt=\"Open In Colab\"/></a>"
      ]
    },
    {
      "cell_type": "code",
      "execution_count": 5,
      "metadata": {
        "colab": {
          "base_uri": "https://localhost:8080/"
        },
        "id": "PhN4NjN28u5G",
        "outputId": "4932a1c3-c3d4-43fb-fce6-f455703262e2"
      },
      "outputs": [
        {
          "output_type": "stream",
          "name": "stdout",
          "text": [
            "Hasil penelusuran graf menggunakan BFS: \n",
            "A B C D E F H G "
          ]
        }
      ],
      "source": [
        "graph = {\n",
        "    'A' : ['B','C'],\n",
        "    'B' : ['D','E'],\n",
        "    'C' : ['F'],\n",
        "    'D' : [],\n",
        "    'E' : ['F'],\n",
        "    'F' : ['H'],\n",
        "    'G' : ['H'],\n",
        "    'H' : ['G']\n",
        "}\n",
        "\n",
        "visited = [] # List to keep trach of visited nodes.\n",
        "queue = [] #Initialize a queue\n",
        "\n",
        "queue = []     #Initialize a queue\n",
        " \n",
        "def bfs(visited, graph, node):\n",
        "    visited.append(node)\n",
        "    queue.append(node)\n",
        " \n",
        "    while queue:\n",
        "        s = queue.pop(0) \n",
        "        print (s, end = \" \") \n",
        " \n",
        "        for neighbour in graph[s]:\n",
        "            if neighbour not in visited:\n",
        "                visited.append(neighbour)\n",
        "                queue.append(neighbour)\n",
        " \n",
        "print(\"Hasil penelusuran graf menggunakan BFS: \")\n",
        "bfs(visited, graph, 'A')\n"
      ]
    },
    {
      "cell_type": "code",
      "source": [
        "# Pembenaran kode program percobaan 1 \n",
        "graph = {\n",
        "    'A' : ['B','C'],\n",
        "    'B' : ['A','D','E'],\n",
        "    'C' : ['A','F'],\n",
        "    'D' : ['B'],\n",
        "    'E' : ['B','F'],\n",
        "    'F' : ['C','E','H'],\n",
        "    'G' : ['H'],\n",
        "    'H' : ['F','G']\n",
        "}\n",
        "\n",
        "visited = [] # List to keep trach of visited nodes.\n",
        "queue = [] #Initialize a queue\n",
        "\n",
        "queue = []     #Initialize a queue\n",
        " \n",
        "def bfs(visited, graph, node):\n",
        "    visited.append(node)\n",
        "    queue.append(node)\n",
        " \n",
        "    while queue:\n",
        "        s = queue.pop(0) \n",
        "        print (s, end = \" \") \n",
        " \n",
        "        for neighbour in graph[s]:\n",
        "            if neighbour not in visited:\n",
        "                visited.append(neighbour)\n",
        "                queue.append(neighbour)\n",
        " \n",
        "print(\"Hasil penelusuran graf menggunakan BFS: \")\n",
        "bfs(visited, graph, 'A')"
      ],
      "metadata": {
        "colab": {
          "base_uri": "https://localhost:8080/"
        },
        "id": "j54GDQ83fYLC",
        "outputId": "2264e36f-7c35-4387-b333-6b95abd47a05"
      },
      "execution_count": 44,
      "outputs": [
        {
          "output_type": "stream",
          "name": "stdout",
          "text": [
            "Hasil penelusuran graf menggunakan BFS: \n",
            "A B C D E F H G "
          ]
        }
      ]
    },
    {
      "cell_type": "code",
      "source": [
        "graph = {\n",
        "    'A' : ['B','C'],\n",
        "    'B' : ['D','E'],\n",
        "    'C' : ['F'],\n",
        "    'D' : [],\n",
        "    'E' : ['F'],\n",
        "    'F' : ['H'],\n",
        "    'G' : ['H'],\n",
        "    'H' : ['G']\n",
        "}\n",
        "\n",
        "visited = set() \n",
        " \n",
        "def dfs(visited, graph, node):\n",
        "  if node not in visited:\n",
        "    print(node)\n",
        "    visited.add(node)\n",
        "    for neighbour in graph[node]:\n",
        "          dfs(visited, graph, neighbour)\n",
        "\n",
        "print(\"Hasil penelusuran graf menggunakan DFS: \")\n",
        "dfs(visited, graph, 'A')\n"
      ],
      "metadata": {
        "colab": {
          "base_uri": "https://localhost:8080/"
        },
        "id": "aJyQjMBVB-nl",
        "outputId": "b85ea1bf-3b46-4161-ab8f-6dee5918a6cb"
      },
      "execution_count": 8,
      "outputs": [
        {
          "output_type": "stream",
          "name": "stdout",
          "text": [
            "Hasil penelusuran graf menggunakan DFS: \n",
            "A\n",
            "B\n",
            "D\n",
            "E\n",
            "F\n",
            "H\n",
            "G\n",
            "C\n"
          ]
        }
      ]
    },
    {
      "cell_type": "code",
      "source": [
        "# Pembenaran kode program percobaan 2\n",
        "graph = {\n",
        "    'A' : ['B','C'],\n",
        "    'B' : ['A','D','E'],\n",
        "    'C' : ['A','F'],\n",
        "    'D' : ['B'],\n",
        "    'E' : ['B','F'],\n",
        "    'F' : ['C','E','H'],\n",
        "    'G' : ['H'],\n",
        "    'H' : ['F','G']\n",
        "}\n",
        "\n",
        "visited = set() \n",
        " \n",
        "def dfs(visited, graph, node):\n",
        "  if node not in visited:\n",
        "    print(node)\n",
        "    visited.add(node)\n",
        "    for neighbour in graph[node]:\n",
        "          dfs(visited, graph, neighbour)\n",
        "\n",
        "print(\"Hasil penelusuran graf menggunakan DFS: \")\n",
        "dfs(visited, graph, 'A')"
      ],
      "metadata": {
        "colab": {
          "base_uri": "https://localhost:8080/"
        },
        "id": "xuGCGvUQk8zW",
        "outputId": "7f5f9055-1e17-4589-cf1d-dd578b452d9f"
      },
      "execution_count": 46,
      "outputs": [
        {
          "output_type": "stream",
          "name": "stdout",
          "text": [
            "Hasil penelusuran graf menggunakan DFS: \n",
            "A\n",
            "B\n",
            "D\n",
            "E\n",
            "F\n",
            "C\n",
            "H\n",
            "G\n"
          ]
        }
      ]
    },
    {
      "cell_type": "code",
      "source": [
        "#latihan praktikum\n",
        "# 1. Telusuri graf tersebut menggunakan BFS\n",
        "graph = {\n",
        "    'A' : ['B','E','F'],\n",
        "    'B' : ['G'], \n",
        "    'C' : ['D'],\n",
        "    'D' : ['H'],\n",
        "    'E' : ['F'],\n",
        "    'F' : ['B'],\n",
        "    'G' : ['C','H'],\n",
        "    'H' : ['D']\n",
        "}\n",
        "\n",
        "visited = [] # List to keep trach of visited nodes.\n",
        "queue = [] #Initialize a queue\n",
        "\n",
        "queue = []     #Initialize a queue\n",
        " \n",
        "def bfs(visited, graph, node):\n",
        "    visited.append(node)\n",
        "    queue.append(node)\n",
        "    \n",
        "    while queue:\n",
        "      s = queue.pop(0) \n",
        "      print (s, end = \" \") \n",
        "      \n",
        "      for neighbour in graph[s]:\n",
        "        if neighbour not in visited:\n",
        "          visited.append(neighbour)\n",
        "          queue.append(neighbour)\n",
        " \n",
        "print(\"Hasil penelusuran graf menggunakan BFS: \")\n",
        "bfs(visited, graph, 'A')"
      ],
      "metadata": {
        "colab": {
          "base_uri": "https://localhost:8080/"
        },
        "id": "-7ozFjdyDGk6",
        "outputId": "14f7fdd8-2f84-4d76-8024-6c484530f33e"
      },
      "execution_count": 12,
      "outputs": [
        {
          "output_type": "stream",
          "name": "stdout",
          "text": [
            "Hasil penelusuran graf menggunakan BFS: \n",
            "A B E F G C H D "
          ]
        }
      ]
    },
    {
      "cell_type": "code",
      "source": [
        "#latihan praktikum\n",
        "# 1. Telusuri graf tersebut menggunakan DFS\n",
        "graph = {\n",
        "    'A' : ['B','E','F'],\n",
        "    'B' : ['G'],\n",
        "    'C' : ['D'],\n",
        "    'D' : [],\n",
        "    'E' : ['F'],\n",
        "    'F' : ['D','B'],\n",
        "    'G' : ['C','H'],\n",
        "    'H' : ['D']\n",
        "    }\n",
        "    \n",
        "visited = set()\n",
        "def dfs(visited, graph, node):\n",
        "  if node not in visited:\n",
        "    print(node)\n",
        "    visited.add(node)\n",
        "    for neighbour in graph[node]:\n",
        "      dfs(visited, graph, neighbour)\n",
        "\n",
        "print(\"Hasil penelusuran graf menggunakan DFS: \")\n",
        "dfs(visited, graph, 'A')"
      ],
      "metadata": {
        "colab": {
          "base_uri": "https://localhost:8080/"
        },
        "id": "o-vggTbJMohD",
        "outputId": "81ab6f78-2966-4881-cb60-f59dc34d0629"
      },
      "execution_count": 31,
      "outputs": [
        {
          "output_type": "stream",
          "name": "stdout",
          "text": [
            "Hasil penelusuran graf menggunakan DFS: \n",
            "A\n",
            "B\n",
            "G\n",
            "C\n",
            "D\n",
            "H\n",
            "E\n",
            "F\n"
          ]
        }
      ]
    },
    {
      "cell_type": "code",
      "source": [
        "#latihan praktikum\n",
        "# 2. Buatlah program untuk menelusuri mencari huruf ‘d’ pada graf berikut menggunakan BFS\n",
        "graph = {\n",
        "    'A' : ['B'],\n",
        "    'B' : ['F','G'], \n",
        "    'C' : ['D','G'],\n",
        "    'D' : ['H'],\n",
        "    'E' : ['F'],\n",
        "    'F' : ['E'],\n",
        "    'G' : ['C'],\n",
        "    'H' : ['D']\n",
        "}\n",
        "\n",
        "visited = [] # List to keep trach of visited nodes.\n",
        "queue = [] #Initialize a queue\n",
        "\n",
        "queue = []     #Initialize a queue\n",
        " \n",
        "def bfs(visited, graph, node):\n",
        "    visited.append(node)\n",
        "    queue.append(node)\n",
        "    \n",
        "    while queue:\n",
        "      s = queue.pop(0) \n",
        "      print (s, end = \" \") \n",
        "      if s == 'D':\n",
        "        break\n",
        "      \n",
        "      for neighbour in graph[s]:\n",
        "        if neighbour not in visited:\n",
        "          visited.append(neighbour)\n",
        "          queue.append(neighbour)\n",
        " \n",
        "print(\"Hasil penelusuran graf menggunakan BFS: \")\n",
        "bfs(visited, graph, 'A')"
      ],
      "metadata": {
        "colab": {
          "base_uri": "https://localhost:8080/"
        },
        "id": "p7HmV-65SdwS",
        "outputId": "0d6fcb1d-1190-4176-f093-ef10e4ba601f"
      },
      "execution_count": 48,
      "outputs": [
        {
          "output_type": "stream",
          "name": "stdout",
          "text": [
            "Hasil penelusuran graf menggunakan BFS: \n",
            "A B F G E C D "
          ]
        }
      ]
    },
    {
      "cell_type": "code",
      "source": [
        "#latihan praktikum\n",
        "# 2. Buatlah program untuk menelusuri mencari huruf ‘d’ pada graf berikut menggunakan DFS\n",
        "graph = {\n",
        "    'A' : ['B'],\n",
        "    'B' : ['F','G'],\n",
        "    'C' : ['D'],\n",
        "    'D' : ['H'],\n",
        "    'E' : ['F'],\n",
        "    'F' : ['E'],\n",
        "    'G' : ['C'],\n",
        "    'H' : []\n",
        "    }\n",
        "    \n",
        "visited = set()\n",
        "def dfs(visited, graph, node):\n",
        "  if node not in visited:\n",
        "    print(node)\n",
        "    if node == 'D':\n",
        "        return\n",
        "    visited.add(node)\n",
        "    for neighbour in graph[node]:\n",
        "      dfs(visited, graph, neighbour)\n",
        "\n",
        "print(\"Hasil penelusuran graf menggunakan DFS: \")\n",
        "dfs(visited, graph, 'A')"
      ],
      "metadata": {
        "colab": {
          "base_uri": "https://localhost:8080/"
        },
        "id": "oULk3nPwUj5v",
        "outputId": "41a97d06-9522-4f88-e390-863127786d40"
      },
      "execution_count": 47,
      "outputs": [
        {
          "output_type": "stream",
          "name": "stdout",
          "text": [
            "Hasil penelusuran graf menggunakan DFS: \n",
            "A\n",
            "B\n",
            "F\n",
            "E\n",
            "G\n",
            "C\n",
            "D\n"
          ]
        }
      ]
    }
  ]
}